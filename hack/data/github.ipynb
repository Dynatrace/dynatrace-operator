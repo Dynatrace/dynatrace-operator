{
 "cells": [
  {
   "cell_type": "markdown",
   "metadata": {},
   "source": [
    "# Github review stats\n",
    "\n",
    "Purpose of this notebook is to have a better understanding the \"reviewing situation\".\n",
    "\n",
    "- The purpose is NOT to blame and shame, but to inform."
   ]
  },
  {
   "cell_type": "markdown",
   "metadata": {},
   "source": [
    "## The general setup"
   ]
  },
  {
   "cell_type": "code",
   "execution_count": null,
   "metadata": {},
   "outputs": [],
   "source": [
    "import requests\n",
    "from dataclasses import dataclass\n",
    "from collections import defaultdict\n",
    "\n",
    "\n",
    "team_1 = [\"0sewa0\", \"chrismuellner\", \"luhi-DT\", \"waodim\", \"gkrenn\"]\n",
    "team_2 = [\"albertogdd\", \"andriisoldatenko\", \"aorcholski\", \"StefanHauth\", \"wepudt\"]\n",
    "\n",
    "@dataclass\n",
    "class PRStat:\n",
    "    number: int\n",
    "    owner: str\n",
    "    approvers: set[str]\n",
    "    reviewers: set[str]\n",
    "\n",
    "stats: list[PRStat] = list()\n",
    "\n",
    "repo = 'dynatrace-operator'\n",
    "owner = 'Dynatrace'\n"
   ]
  },
  {
   "cell_type": "markdown",
   "metadata": {},
   "source": [
    "### Setup the auth\n",
    "\n",
    "Needed so you don't run into the API limit.\n",
    "You only need a read access to public repos, so nothing special.\n",
    "Put you user/token into the `github.yaml`. (did this so no accidental token leak happens 😅)"
   ]
  },
  {
   "cell_type": "code",
   "execution_count": null,
   "metadata": {},
   "outputs": [],
   "source": [
    "import yaml\n",
    "\n",
    "user = \"\"\n",
    "token = \"\"\n",
    "with open(\"github.yaml\") as stream:\n",
    "    try:\n",
    "        github = yaml.safe_load(stream)\n",
    "        user = github[\"user\"]\n",
    "        token = github[\"token\"]\n",
    "    except yaml.YAMLError as exc:\n",
    "        print(exc)\n",
    "\n",
    "auth=(user, token)"
   ]
  },
  {
   "cell_type": "markdown",
   "metadata": {},
   "source": [
    "### The settings for the Pull-Requests requests"
   ]
  },
  {
   "cell_type": "code",
   "execution_count": 2,
   "metadata": {},
   "outputs": [],
   "source": [
    "pr_url = f'https://api.github.com/repos/{owner}/{repo}/pulls'\n",
    "pr_params = dict()\n",
    "pr_params[\"per_page\"] = 100\n",
    "pr_params[\"state\"] = \"closed\""
   ]
  },
  {
   "cell_type": "markdown",
   "metadata": {},
   "source": [
    "## Make ALL the requests"
   ]
  },
  {
   "cell_type": "code",
   "execution_count": 3,
   "metadata": {},
   "outputs": [],
   "source": [
    "for i in range(4):\n",
    "    pr_params[\"page\"] = i\n",
    "    pr_response = requests.get(pr_url, params=pr_params, auth=auth)\n",
    "    pulls = pr_response.json()\n",
    "    for pull in pulls:\n",
    "        pr_number = pull['number']\n",
    "        pr_author = pull['user']\n",
    "        if pr_author[\"login\"] != \"github-actions[bot]\":\n",
    "            rv_url = f'https://api.github.com/repos/{owner}/{repo}/pulls/{pr_number}/reviews'\n",
    "            rv_params = dict()\n",
    "            rv_params[\"per_page\"] = 100\n",
    "            rv_response = requests.get(rv_url, params=rv_params, auth=auth)\n",
    "            reviews = rv_response.json()\n",
    "            approvers:set[str] = set()\n",
    "            reviewers:set[str] = set()\n",
    "            for review in reviews:\n",
    "                rv_author = review[\"user\"][\"login\"]\n",
    "                reviewers.add(rv_author)\n",
    "                if review[\"state\"] == \"APPROVED\":\n",
    "                    approvers.add(rv_author)\n",
    "            stat = PRStat(pr_number, pr_author, approvers, reviewers)\n",
    "            stats.append(stat)"
   ]
  },
  {
   "cell_type": "markdown",
   "metadata": {},
   "source": [
    "### \"Analysis\""
   ]
  },
  {
   "cell_type": "code",
   "execution_count": 4,
   "metadata": {},
   "outputs": [
    {
     "name": "stdout",
     "output_type": "stream",
     "text": [
      "Number of PRs looked at 377\n",
      "PRs reviewed only by team-1 57\n",
      "PRs reviewed only by team-2 26\n",
      "PRs reviewed by both 294\n",
      "PRs approved only by team-1 72\n",
      "PRs approved only by team-2 31\n",
      "PRs approved by both 274\n",
      "Approvers (1 per PR) defaultdict(<class 'int'>, {'albertogdd': 80, '0sewa0': 44, 'waodim': 67, 'aorcholski': 2, 'StefanHauth': 29, 'luhi-DT': 58, 'chrismuellner': 26, 'andriisoldatenko': 61, 'wepudt': 5})\n",
      "Reviewers (1 per PR) defaultdict(<class 'int'>, {'waodim': 110, 'albertogdd': 43, 'aorcholski': 34, '0sewa0': 102, 'chrismuellner': 40, 'gkrenn': 13, 'StefanHauth': 28, 'luhi-DT': 44, 'andriisoldatenko': 82, 'wepudt': 6})\n"
     ]
    }
   ],
   "source": [
    "t1_reviews = 0\n",
    "t2_reviews = 0\n",
    "mixed_reviews = 0\n",
    "t1_approves = 0\n",
    "t2_approves = 0\n",
    "mixed_approves = 0\n",
    "\n",
    "approves = defaultdict(int)\n",
    "reviews = defaultdict(int)\n",
    "\n",
    "for stat in stats:\n",
    "    is_rv_t1 = False\n",
    "    is_rv_t2 = False\n",
    "    for rv in stat.reviewers:\n",
    "        reviews[rv] += 1\n",
    "        if rv in team_1:\n",
    "            is_rv_t1 = True\n",
    "        if rv in team_2:\n",
    "            is_rv_t2 = True\n",
    "    if is_rv_t1 and not is_rv_t2:\n",
    "        t1_reviews += 1\n",
    "    elif is_rv_t2 and not is_rv_t1:\n",
    "        t2_reviews += 1\n",
    "    else:\n",
    "        mixed_reviews += 1\n",
    "\n",
    "    is_ap_t1 = False\n",
    "    is_ap_t2 = False\n",
    "    for ap in stat.approvers:\n",
    "        approves[rv] += 1\n",
    "        if ap in team_1:\n",
    "            is_ap_t1 = True\n",
    "        if ap in team_2:\n",
    "            is_ap_t2 = True\n",
    "    if is_ap_t1 and not is_ap_t2:\n",
    "        t1_approves += 1\n",
    "    elif is_ap_t2 and not is_ap_t1:\n",
    "        t2_approves += 1\n",
    "    else:\n",
    "        mixed_approves += 1\n",
    "\n",
    "print(f'Number of PRs looked at {len(stats)}')\n",
    "print(f'PRs reviewed only by team-1 {t1_reviews}')\n",
    "print(f'PRs reviewed only by team-2 {t2_reviews}')\n",
    "print(f'PRs reviewed by both {mixed_reviews}')\n",
    "print(f'PRs approved only by team-1 {t1_approves}')\n",
    "print(f'PRs approved only by team-2 {t2_approves}')\n",
    "print(f'PRs approved by both {mixed_approves}')\n",
    "\n",
    "print(f'Approvers (1 per PR) {approves}')\n",
    "print(f'Reviewers (1 per PR) {reviews}')"
   ]
  }
 ],
 "metadata": {
  "kernelspec": {
   "display_name": ".venv",
   "language": "python",
   "name": "python3"
  },
  "language_info": {
   "codemirror_mode": {
    "name": "ipython",
    "version": 3
   },
   "file_extension": ".py",
   "mimetype": "text/x-python",
   "name": "python",
   "nbconvert_exporter": "python",
   "pygments_lexer": "ipython3",
   "version": "3.10.0"
  }
 },
 "nbformat": 4,
 "nbformat_minor": 2
}
